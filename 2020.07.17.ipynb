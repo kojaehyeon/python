{
 "cells": [
  {
   "cell_type": "code",
   "execution_count": null,
   "metadata": {},
   "outputs": [],
   "source": [
    "a = [1,2,3,4,5,6,7,8,9,10]"
   ]
  },
  {
   "cell_type": "code",
   "execution_count": null,
   "metadata": {},
   "outputs": [],
   "source": [
    "list(map(lambda x :str(x) if x %3 == 0 else x,a))"
   ]
  },
  {
   "cell_type": "code",
   "execution_count": null,
   "metadata": {},
   "outputs": [],
   "source": [
    "list(map(lambda x :str(x) if x == 1 else float(x) if x == 2 else x + 10))"
   ]
  },
  {
   "cell_type": "code",
   "execution_count": null,
   "metadata": {},
   "outputs": [],
   "source": [
    "a= [1,2,3,4,5]\n",
    "b = [2,4,6,8,10]\n",
    "list(map(lambda x, y: x * y,a,b))"
   ]
  },
  {
   "cell_type": "code",
   "execution_count": null,
   "metadata": {},
   "outputs": [],
   "source": [
    "def f(x):\n",
    "    return x > 5 and x<10\n",
    "\n",
    "a=[8,3,2,10,15,7,1,9,0,11]\n",
    "list(filter(f,a))"
   ]
  },
  {
   "cell_type": "code",
   "execution_count": null,
   "metadata": {},
   "outputs": [],
   "source": [
    "files = input.split()\n",
    "print(files)\n",
    "\n",
    "names=[]\n",
    "exts = []\n",
    "\n",
    "for file in files:\n",
    "    name = file,split('.')[0]\n",
    "    names.appendend(int(name))\n",
    "    \n",
    "    ext = file.split('.')[1]\n",
    "    exts.append(ext)\n",
    "    \n",
    "list(map(lambda name, ext: '{0:03d}.{1}'.format(name,ext),names,exts))"
   ]
  },
  {
   "cell_type": "code",
   "execution_count": null,
   "metadata": {},
   "outputs": [],
   "source": [
    "def attempt_float(x):\n",
    "    try:\n",
    "        return float(x)\n",
    "    except:\n",
    "        return x\n",
    "                  "
   ]
  },
  {
   "cell_type": "code",
   "execution_count": null,
   "metadata": {},
   "outputs": [],
   "source": [
    "attempt_float('1.2345')"
   ]
  },
  {
   "cell_type": "code",
   "execution_count": null,
   "metadata": {},
   "outputs": [],
   "source": [
    "attempt_float('something')"
   ]
  },
  {
   "cell_type": "code",
   "execution_count": null,
   "metadata": {},
   "outputs": [],
   "source": [
    "float((1,2))"
   ]
  },
  {
   "cell_type": "code",
   "execution_count": null,
   "metadata": {},
   "outputs": [],
   "source": [
    "def attempt_float(x):\n",
    "    try:\n",
    "        return float(x)\n",
    "    except ValueError:\n",
    "        return x"
   ]
  },
  {
   "cell_type": "code",
   "execution_count": 29,
   "metadata": {
    "scrolled": true
   },
   "outputs": [
    {
     "ename": "TypeError",
     "evalue": "'function' object is not iterable",
     "output_type": "error",
     "traceback": [
      "\u001b[1;31m---------------------------------------------------------------------------\u001b[0m",
      "\u001b[1;31mTypeError\u001b[0m                                 Traceback (most recent call last)",
      "\u001b[1;32m<ipython-input-29-3e8eb17f62d0>\u001b[0m in \u001b[0;36m<module>\u001b[1;34m\u001b[0m\n\u001b[1;32m----> 1\u001b[1;33m \u001b[0mprint\u001b[0m\u001b[1;33m(\u001b[0m\u001b[0mlist\u001b[0m\u001b[1;33m(\u001b[0m\u001b[0mattempt_float\u001b[0m\u001b[1;33m)\u001b[0m\u001b[1;33m)\u001b[0m\u001b[1;33m\u001b[0m\u001b[1;33m\u001b[0m\u001b[0m\n\u001b[0m",
      "\u001b[1;31mTypeError\u001b[0m: 'function' object is not iterable"
     ]
    }
   ],
   "source": []
  },
  {
   "cell_type": "code",
   "execution_count": 11,
   "metadata": {},
   "outputs": [
    {
     "name": "stdout",
     "output_type": "stream",
     "text": [
      "파일이 없습니다.\n"
     ]
    },
    {
     "ename": "NameError",
     "evalue": "name 'file' is not defined",
     "output_type": "error",
     "traceback": [
      "\u001b[1;31m---------------------------------------------------------------------------\u001b[0m",
      "\u001b[1;31mFileNotFoundError\u001b[0m                         Traceback (most recent call last)",
      "\u001b[1;32m<ipython-input-11-75763e2c7f6f>\u001b[0m in \u001b[0;36m<module>\u001b[1;34m\u001b[0m\n\u001b[0;32m      1\u001b[0m \u001b[1;32mtry\u001b[0m\u001b[1;33m:\u001b[0m\u001b[1;33m\u001b[0m\u001b[1;33m\u001b[0m\u001b[0m\n\u001b[1;32m----> 2\u001b[1;33m     \u001b[0mfile\u001b[0m \u001b[1;33m=\u001b[0m \u001b[0mopen\u001b[0m\u001b[1;33m(\u001b[0m\u001b[1;34m'maria.txt'\u001b[0m\u001b[1;33m,\u001b[0m\u001b[1;34m'r'\u001b[0m\u001b[1;33m)\u001b[0m\u001b[1;33m\u001b[0m\u001b[1;33m\u001b[0m\u001b[0m\n\u001b[0m\u001b[0;32m      3\u001b[0m \u001b[1;32mexcept\u001b[0m \u001b[0mFileNotFoundError\u001b[0m\u001b[1;33m:\u001b[0m\u001b[1;33m\u001b[0m\u001b[1;33m\u001b[0m\u001b[0m\n",
      "\u001b[1;31mFileNotFoundError\u001b[0m: [Errno 2] No such file or directory: 'maria.txt'",
      "\nDuring handling of the above exception, another exception occurred:\n",
      "\u001b[1;31mNameError\u001b[0m                                 Traceback (most recent call last)",
      "\u001b[1;32m<ipython-input-11-75763e2c7f6f>\u001b[0m in \u001b[0;36m<module>\u001b[1;34m\u001b[0m\n\u001b[0;32m      4\u001b[0m     \u001b[0mprint\u001b[0m\u001b[1;33m(\u001b[0m\u001b[1;34m'파일이 없습니다.'\u001b[0m\u001b[1;33m)\u001b[0m\u001b[1;33m\u001b[0m\u001b[1;33m\u001b[0m\u001b[0m\n\u001b[0;32m      5\u001b[0m \u001b[1;33m\u001b[0m\u001b[0m\n\u001b[1;32m----> 6\u001b[1;33m     \u001b[0ms\u001b[0m \u001b[1;33m=\u001b[0m \u001b[0mfile\u001b[0m\u001b[1;33m.\u001b[0m\u001b[0mread\u001b[0m\u001b[1;33m(\u001b[0m\u001b[1;33m)\u001b[0m\u001b[1;33m\u001b[0m\u001b[1;33m\u001b[0m\u001b[0m\n\u001b[0m\u001b[0;32m      7\u001b[0m     \u001b[0mfles\u001b[0m\u001b[1;33m.\u001b[0m\u001b[0mclose\u001b[0m\u001b[1;33m(\u001b[0m\u001b[1;33m)\u001b[0m\u001b[1;33m\u001b[0m\u001b[1;33m\u001b[0m\u001b[0m\n",
      "\u001b[1;31mNameError\u001b[0m: name 'file' is not defined"
     ]
    }
   ],
   "source": [
    "try:\n",
    "    file = open('maria.txt','r')\n",
    "except FileNotFoundError:\n",
    "    print('파일이 없습니다.')\n",
    "\n",
    "    s = file.read()\n",
    "    fles.close()"
   ]
  },
  {
   "cell_type": "code",
   "execution_count": 27,
   "metadata": {},
   "outputs": [
    {
     "data": {
      "text/plain": [
       "['Sueña el rico en su riqueza,',\n",
       " 'que más cuidados le ofrece;',\n",
       " '',\n",
       " 'sueña el pobre que padece',\n",
       " 'su miseria y su pobreza;',\n",
       " '',\n",
       " 'sueña el que a medrar empieza,',\n",
       " 'sueña el que afana y pretende,',\n",
       " 'sueña el que agravia y ofende,',\n",
       " '',\n",
       " 'y en el mundo, en conclusión,',\n",
       " 'todos sueñan lo que son,',\n",
       " 'aunque ninguno lo entiende.']"
      ]
     },
     "execution_count": 27,
     "metadata": {},
     "output_type": "execute_result"
    }
   ],
   "source": [
    "path ='segismun.txt'\n",
    "f = open(path)\n",
    "\n",
    "for line in f:\n",
    "    pass\n",
    "\n",
    "lines = [x.rstrip() for x in open(path, encoding='UTF-8')]\n",
    "lines"
   ]
  },
  {
   "cell_type": "code",
   "execution_count": 28,
   "metadata": {},
   "outputs": [],
   "source": [
    "f.close()"
   ]
  },
  {
   "cell_type": "code",
   "execution_count": 29,
   "metadata": {},
   "outputs": [],
   "source": [
    "with open(path, encoding='UTF-8') as f:\n",
    "    lines = [x.rstrip() for x in f]"
   ]
  },
  {
   "cell_type": "code",
   "execution_count": 30,
   "metadata": {},
   "outputs": [
    {
     "data": {
      "text/plain": [
       "'Sueña el r'"
      ]
     },
     "execution_count": 30,
     "metadata": {},
     "output_type": "execute_result"
    }
   ],
   "source": [
    "f = open(path, encoding='UTF-8')\n",
    "f.read(10)"
   ]
  },
  {
   "cell_type": "code",
   "execution_count": 31,
   "metadata": {},
   "outputs": [
    {
     "data": {
      "text/plain": [
       "b'Sue\\xc3\\xb1a el '"
      ]
     },
     "execution_count": 31,
     "metadata": {},
     "output_type": "execute_result"
    }
   ],
   "source": [
    "f2 = open(path,'rb')\n",
    "f2.read(10)"
   ]
  },
  {
   "cell_type": "code",
   "execution_count": 32,
   "metadata": {},
   "outputs": [
    {
     "data": {
      "text/plain": [
       "11"
      ]
     },
     "execution_count": 32,
     "metadata": {},
     "output_type": "execute_result"
    }
   ],
   "source": [
    "f.tell()"
   ]
  },
  {
   "cell_type": "code",
   "execution_count": 33,
   "metadata": {},
   "outputs": [
    {
     "data": {
      "text/plain": [
       "10"
      ]
     },
     "execution_count": 33,
     "metadata": {},
     "output_type": "execute_result"
    }
   ],
   "source": [
    "f2.tell()"
   ]
  },
  {
   "cell_type": "code",
   "execution_count": 34,
   "metadata": {},
   "outputs": [
    {
     "data": {
      "text/plain": [
       "'utf-8'"
      ]
     },
     "execution_count": 34,
     "metadata": {},
     "output_type": "execute_result"
    }
   ],
   "source": [
    "import sys\n",
    "sys.getdefaultencoding()"
   ]
  },
  {
   "cell_type": "code",
   "execution_count": 35,
   "metadata": {},
   "outputs": [
    {
     "data": {
      "text/plain": [
       "3"
      ]
     },
     "execution_count": 35,
     "metadata": {},
     "output_type": "execute_result"
    }
   ],
   "source": [
    "f.seek(3)"
   ]
  },
  {
   "cell_type": "code",
   "execution_count": 36,
   "metadata": {},
   "outputs": [
    {
     "data": {
      "text/plain": [
       "'ñ'"
      ]
     },
     "execution_count": 36,
     "metadata": {},
     "output_type": "execute_result"
    }
   ],
   "source": [
    "f.read(1)"
   ]
  },
  {
   "cell_type": "code",
   "execution_count": 37,
   "metadata": {},
   "outputs": [],
   "source": [
    "f.close()\n",
    "f2.close()"
   ]
  },
  {
   "cell_type": "code",
   "execution_count": 39,
   "metadata": {},
   "outputs": [
    {
     "data": {
      "text/plain": [
       "['Sueña el rico en su riqueza,\\n',\n",
       " 'que más cuidados le ofrece;\\n',\n",
       " 'sueña el pobre que padece\\n',\n",
       " 'su miseria y su pobreza;\\n',\n",
       " 'sueña el que a medrar empieza,\\n',\n",
       " 'sueña el que afana y pretende,\\n',\n",
       " 'sueña el que agravia y ofende,\\n',\n",
       " 'y en el mundo, en conclusión,\\n',\n",
       " 'todos sueñan lo que son,\\n',\n",
       " 'aunque ninguno lo entiende.']"
      ]
     },
     "execution_count": 39,
     "metadata": {},
     "output_type": "execute_result"
    }
   ],
   "source": [
    "with open('tmp.txt','w', encoding='UTF-8')as handle:\n",
    "    handle.writelines(x for x in open(path, encoding='UTF-8')if len(x) > 1)\n",
    "with open('tmp.txt', encoding='UTf-8') as f:\n",
    "    lines = f.readlines()\n",
    "lines"
   ]
  },
  {
   "cell_type": "code",
   "execution_count": 40,
   "metadata": {},
   "outputs": [],
   "source": [
    "import os\n",
    "os.remove('tmp.txt')"
   ]
  },
  {
   "cell_type": "code",
   "execution_count": 41,
   "metadata": {},
   "outputs": [
    {
     "data": {
      "text/plain": [
       "['anonymously',\n",
       " 'compatibility',\n",
       " 'dashboard',\n",
       " 'experionce',\n",
       " 'photography',\n",
       " 'spotlight',\n",
       " 'warehouse']"
      ]
     },
     "execution_count": 41,
     "metadata": {},
     "output_type": "execute_result"
    }
   ],
   "source": [
    "path ='words.txt'\n",
    "f = open(path)\n",
    "\n",
    "for line in f:\n",
    "    pass\n",
    "\n",
    "lines = [x.rstrip() for x in open(path)]\n",
    "lines"
   ]
  },
  {
   "cell_type": "code",
   "execution_count": 42,
   "metadata": {},
   "outputs": [],
   "source": [
    "f.close()"
   ]
  },
  {
   "cell_type": "code",
   "execution_count": 45,
   "metadata": {},
   "outputs": [
    {
     "name": "stdout",
     "output_type": "stream",
     "text": [
      "{}\n"
     ]
    }
   ],
   "source": [
    "with open('words.txt') as f:\n",
    "    text = f.readlines()\n",
    "    \n",
    "words = text[0].split(\" \")\n",
    "res = {}\n",
    "\n",
    "for w in words:\n",
    "    if len(w) <= 10:\n",
    "        res[w] = len(w)\n",
    "print(res)"
   ]
  },
  {
   "cell_type": "code",
   "execution_count": 46,
   "metadata": {},
   "outputs": [],
   "source": [
    "f.close()"
   ]
  },
  {
   "cell_type": "code",
   "execution_count": 61,
   "metadata": {},
   "outputs": [
    {
     "name": "stdout",
     "output_type": "stream",
     "text": [
      "4\n"
     ]
    }
   ],
   "source": [
    "with open('words.txt') as f:\n",
    "    count = 0\n",
    "    \n",
    "    words = f.readlines()\n",
    "\n",
    "    for word in words:\n",
    "            if len(word.strip('\\n')) <= 10:\n",
    "                count+=1\n",
    "    print(count)\n",
    "        \n",
    "        "
   ]
  },
  {
   "cell_type": "code",
   "execution_count": 70,
   "metadata": {
    "scrolled": true
   },
   "outputs": [
    {
     "name": "stdout",
     "output_type": "stream",
     "text": [
      "dictator\n",
      "subjects\n",
      "change\n",
      "costume\n",
      "elegance\n",
      "accepted\n"
     ]
    }
   ],
   "source": [
    "with open('words1.txt') as t:\n",
    "    text = t.read()\n",
    "    \n",
    "words = text.split(\" \")\n",
    "res = []\n",
    "\n",
    "for w in words:\n",
    "    if \"c\" in w:\n",
    "        print(w.strip(',.'))\n",
    "        \n"
   ]
  },
  {
   "cell_type": "code",
   "execution_count": 78,
   "metadata": {},
   "outputs": [
    {
     "name": "stdout",
     "output_type": "stream",
     "text": [
      "the: 101\n",
      "of: 99\n",
      "to: 59\n",
      "and: 41\n",
      "a: 37\n",
      "be: 33\n",
      "will: 27\n",
      "that: 23\n",
      "is: 23\n",
      "in: 20\n"
     ]
    }
   ],
   "source": [
    "with open('ihaveadream.txt', 'r') as f:\n",
    "    text = f.read()\n",
    "\n",
    "word_lst = []\n",
    "for word in text.split():\n",
    "    word_lst.append(word.strip('.,'))\n",
    "\n",
    "word_cnt = []\n",
    "for word in set(word_lst):\n",
    "    cnt = word_lst.count(word)\n",
    "    word_cnt.append((cnt, word))\n",
    "\n",
    "word_cnt.sort(reverse=True)\n",
    "\n",
    "for cnt, word in word_cnt[:10]:\n",
    "    print(word +':', cnt)"
   ]
  },
  {
   "cell_type": "code",
   "execution_count": 79,
   "metadata": {},
   "outputs": [
    {
     "name": "stdout",
     "output_type": "stream",
     "text": [
      "the 101\n",
      "of 99\n",
      "to 59\n",
      "and 41\n",
      "a 37\n",
      "be 33\n",
      "will 27\n",
      "that 23\n",
      "is 23\n",
      "in 20\n",
      "\n"
     ]
    }
   ],
   "source": [
    "def wordcnt(f):\n",
    "    def fread(f):\n",
    "        with open('ihaveadream.txt', 'r') as f:\n",
    "            return f.read()\n",
    "\n",
    "    def wordlst(text):\n",
    "        return text.replace('.', ' ').replace(',', ' ').split()\n",
    "\n",
    "    def count(wset, wlst):\n",
    "        #return [(wlst.count(w), w) for w in wset]\n",
    "        return [] if not wset else [(wlst.count(wset[0]), wset[0])] + count(wset[1:], wlst)\n",
    "\n",
    "    def tostr(clst):\n",
    "        #return ''.join('{} {}\\n'.format(*reversed(c)) for c in clst)\n",
    "        return '' if not clst else '{} {}\\n'.format(*reversed(clst[0])) + tostr(clst[1:])\n",
    "\n",
    "    return \\\n",
    "        tostr(\n",
    "            sorted(\n",
    "                count(\n",
    "                    list(set(wordlst(fread(f)))),\n",
    "                    wordlst(fread(f))\n",
    "                ),\n",
    "                reverse=True\n",
    "            )[:10]\n",
    "        )\n",
    "\n",
    "\n",
    "print(wordcnt(\"result.txt\"))"
   ]
  },
  {
   "cell_type": "code",
   "execution_count": 84,
   "metadata": {
    "collapsed": true
   },
   "outputs": [
    {
     "name": "stdout",
     "output_type": "stream",
     "text": [
      "score\n",
      "American\n",
      "symbolic\n",
      "Emancipation\n",
      "Proclamation\n",
      "decree\n",
      "came\n",
      "beacon\n",
      "injustice\n",
      "came\n",
      "captivity.\n",
      "\n",
      "But\n",
      "crippled\n",
      "manacles\n",
      "chains\n",
      "discrimination\n",
      "ocean\n",
      "corners\n",
      "American\n",
      "society\n",
      "come\n",
      "condition.\n",
      "\n",
      "In\n",
      "come\n",
      "capital\n",
      "cash\n",
      "check\n",
      "architects\n",
      "republic\n",
      "magnificent\n",
      "Declaration\n",
      "Independence\n",
      "which\n",
      "American\n",
      "black\n",
      "America\n",
      "citizens\n",
      "color\n",
      "concerned\n",
      "sacred\n",
      "America\n",
      "check\n",
      "check\n",
      "which\n",
      "come\n",
      "back\n",
      "insufficient\n",
      "justice\n",
      "insufficient\n",
      "come\n",
      "cash\n",
      "check\n",
      "check\n",
      "riches\n",
      "security\n",
      "justice.\n",
      "\n",
      "We\n",
      "come\n",
      "America\n",
      "fierce\n",
      "urgency\n",
      "cooling\n",
      "democracy\n",
      "racial\n",
      "justice\n",
      "quicksands\n",
      "racial\n",
      "injustice\n",
      "rock\n",
      "justice\n",
      "children.\n",
      "\n",
      "It\n",
      "urgency\n",
      "discontent\n",
      "content\n",
      "America\n",
      "citizenship\n",
      "continue\n",
      "justice\n",
      "which\n",
      "palace\n",
      "justice:\n",
      "process\n",
      "place\n",
      "cup\n",
      "conduct\n",
      "discipline\n",
      "creative\n",
      "physical\n",
      "violence\n",
      "majestic\n",
      "physical\n",
      "force\n",
      "force.\n",
      "\n",
      "The\n",
      "militancy\n",
      "which\n",
      "community\n",
      "evidenced\n",
      "presence\n",
      "come\n",
      "come\n",
      "inextricably\n",
      "cannot\n",
      "march\n",
      "cannot\n",
      "back.\n",
      "\n",
      "There\n",
      "civil\n",
      "can\n",
      "victim\n",
      "police\n",
      "can\n",
      "cannot\n",
      "cities\n",
      "cannot\n",
      "basic\n",
      "can\n",
      "children\n",
      "cannot\n",
      "cannot\n",
      "which\n",
      "justice\n",
      "come\n",
      "come\n",
      "cells\n",
      "come\n",
      "persecution\n",
      "police\n",
      "creative\n",
      "back\n",
      "back\n",
      "back\n",
      "back\n",
      "back\n",
      "back\n",
      "cities\n",
      "can\n",
      "changed.\n",
      "\n",
      "Let\n",
      "face\n",
      "difficulties\n",
      "American\n",
      "creed:\n",
      "created\n",
      "injustice\n",
      "justice.\n",
      "\n",
      "I\n",
      "children\n",
      "color\n",
      "content\n",
      "character.\n",
      "\n",
      "I\n",
      "vicious\n",
      "racists\n",
      "nullification\n",
      "black\n",
      "black\n",
      "places\n",
      "crooked\n",
      "places\n",
      "back\n",
      "discords\n",
      "children\n",
      "country\n",
      "America\n",
      "become\n",
      "snow-capped\n",
      "Rockies\n",
      "curvaceous\n",
      "city\n",
      "children\n",
      "black\n",
      "Catholics\n"
     ]
    }
   ],
   "source": [
    "with open('ihaveadream.txt') as t:\n",
    "    text = t.read()\n",
    "    \n",
    "words = text.split(\" \")\n",
    "res = []\n",
    "\n",
    "for w in words:\n",
    "    if \"c\" in w:\n",
    "        print(w.strip('\",.\\n\\n'))\n",
    "        "
   ]
  },
  {
   "cell_type": "code",
   "execution_count": 89,
   "metadata": {
    "collapsed": true
   },
   "outputs": [
    {
     "name": "stdout",
     "output_type": "stream",
     "text": [
      "['I', 'am', 'happy', 'to', 'join', 'with', 'you', 'today', 'in', 'what', 'will', 'go', 'down', 'in', 'history', 'as', 'the', 'greatest', 'demonstration', 'for', 'freedom', 'in', 'the', 'history', 'of', 'our', 'nation.', 'Five', 'score', 'years', 'ago,', 'a', 'great', 'American,', 'in', 'whose', 'symbolic', 'shadow', 'we', 'stand', 'today,', 'signed', 'the', 'Emancipation', 'Proclamation.', 'This', 'momentous', 'decree', 'came', 'as', 'a', 'great', 'beacon', 'light', 'of', 'hope', 'to', 'millions', 'of', 'Negro', 'slaves', 'who', 'had', 'been', 'seared', 'in', 'the', 'flames', 'of', 'withering', 'injustice.', 'It', 'came', 'as', 'a', 'joyous', 'daybreak', 'to', 'end', 'the', 'long', 'night', 'of', 'their', 'captivity.', 'But', 'one', 'hundred', 'years', 'later,', 'the', 'Negro', 'still', 'is', 'not', 'free.', 'One', 'hundred', 'years', 'later,', 'the', 'life', 'of', 'the', 'Negro', 'is', 'still', 'sadly', 'crippled', 'by', 'the', 'manacles', 'of', 'segregation', 'and', 'the', 'chains', 'of', 'discrimination.', 'One', 'hundred', 'years', 'later,', 'the', 'Negro', 'lives', 'on', 'a', 'lonely', 'island', 'of', 'poverty', 'in', 'the', 'midst', 'of', 'a', 'vast', 'ocean', 'of', 'material', 'prosperity.', 'One', 'hundred', 'years', 'later,', 'the', 'Negro', 'is', 'still', 'languished', 'in', 'the', 'corners', 'of', 'American', 'society', 'and', 'finds', 'himself', 'an', 'exile', 'in', 'his', 'own', 'land.', 'And', 'so', \"we've\", 'come', 'here', 'today', 'to', 'dramatize', 'a', 'shameful', 'condition.', 'In', 'a', 'sense', \"we've\", 'come', 'to', 'our', \"nation's\", 'capital', 'to', 'cash', 'a', 'check.', 'When', 'the', 'architects', 'of', 'our', 'republic', 'wrote', 'the', 'magnificent', 'words', 'of', 'the', 'Constitution', 'and', 'the', 'Declaration', 'of', 'Independence,', 'they', 'were', 'signing', 'a', 'promissory', 'note', 'to', 'which', 'every', 'American', 'was', 'to', 'fall', 'heir.', 'This', 'note', 'was', 'a', 'promise', 'that', 'all', 'men,', 'yes,', 'black', 'men', 'as', 'well', 'as', 'white', 'men,', 'would', 'be', 'guaranteed', 'the', '\"unalienable', 'Rights\"', 'of', '\"Life,', 'Liberty', 'and', 'the', 'pursuit', 'of', 'Happiness.\"', 'It', 'is', 'obvious', 'today', 'that', 'America', 'has', 'defaulted', 'on', 'this', 'promissory', 'note,', 'insofar', 'as', 'her', 'citizens', 'of', 'color', 'are', 'concerned.', 'Instead', 'of', 'honoring', 'this', 'sacred', 'obligation,', 'America', 'has', 'given', 'the', 'Negro', 'people', 'a', 'bad', 'check,', 'a', 'check', 'which', 'has', 'come', 'back', 'marked', '\"insufficient', 'funds.\"', 'But', 'we', 'refuse', 'to', 'believe', 'that', 'the', 'bank', 'of', 'justice', 'is', 'bankrupt.', 'We', 'refuse', 'to', 'believe', 'that', 'there', 'are', 'insufficient', 'funds', 'in', 'the', 'great', 'vaults', 'of', 'opportunity', 'of', 'this', 'nation.', 'And', 'so,', \"we've\", 'come', 'to', 'cash', 'this', 'check,', 'a', 'check', 'that', 'will', 'give', 'us', 'upon', 'demand', 'the', 'riches', 'of', 'freedom', 'and', 'the', 'security', 'of', 'justice.', 'We', 'have', 'also', 'come', 'to', 'this', 'hallowed', 'spot', 'to', 'remind', 'America', 'of', 'the', 'fierce', 'urgency', 'of', 'Now.', 'This', 'is', 'no', 'time', 'to', 'engage', 'in', 'the', 'luxury', 'of', 'cooling', 'off', 'or', 'to', 'take', 'the', 'tranquilizing', 'drug', 'of', 'gradualism.', 'Now', 'is', 'the', 'time', 'to', 'make', 'real', 'the', 'promises', 'of', 'democracy.', 'Now', 'is', 'the', 'time', 'to', 'rise', 'from', 'the', 'dark', 'and', 'desolate', 'valley', 'of', 'segregation', 'to', 'the', 'sunlit', 'path', 'of', 'racial', 'justice.', 'Now', 'is', 'the', 'time', 'to', 'lift', 'our', 'nation', 'from', 'the', 'quicksands', 'of', 'racial', 'injustice', 'to', 'the', 'solid', 'rock', 'of', 'brotherhood.', 'Now', 'is', 'the', 'time', 'to', 'make', 'justice', 'a', 'reality', 'for', 'all', 'of', \"God's\", 'children.', 'It', 'would', 'be', 'fatal', 'for', 'the', 'nation', 'to', 'overlook', 'the', 'urgency', 'of', 'the', 'moment.', 'This', 'sweltering', 'summer', 'of', 'the', \"Negro's\", 'legitimate', 'discontent', 'will', 'not', 'pass', 'until', 'there', 'is', 'an', 'invigorating', 'autumn', 'of', 'freedom', 'and', 'equality.', 'Nineteen', 'sixty-three', 'is', 'not', 'an', 'end,', 'but', 'a', 'beginning.', 'And', 'those', 'who', 'hope', 'that', 'the', 'Negro', 'needed', 'to', 'blow', 'off', 'steam', 'and', 'will', 'now', 'be', 'content', 'will', 'have', 'a', 'rude', 'awakening', 'if', 'the', 'nation', 'returns', 'to', 'business', 'as', 'usual.', 'And', 'there', 'will', 'be', 'neither', 'rest', 'nor', 'tranquility', 'in', 'America', 'until', 'the', 'Negro', 'is', 'granted', 'his', 'citizenship', 'rights.', 'The', 'whirlwinds', 'of', 'revolt', 'will', 'continue', 'to', 'shake', 'the', 'foundations', 'of', 'our', 'nation', 'until', 'the', 'bright', 'day', 'of', 'justice', 'emerges.', 'But', 'there', 'is', 'something', 'that', 'I', 'must', 'say', 'to', 'my', 'people,', 'who', 'stand', 'on', 'the', 'warm', 'threshold', 'which', 'leads', 'into', 'the', 'palace', 'of', 'justice:', 'In', 'the', 'process', 'of', 'gaining', 'our', 'rightful', 'place,', 'we', 'must', 'not', 'be', 'guilty', 'of', 'wrongful', 'deeds.', 'Let', 'us', 'not', 'seek', 'to', 'satisfy', 'our', 'thirst', 'for', 'freedom', 'by', 'drinking', 'from', 'the', 'cup', 'of', 'bitterness', 'and', 'hatred.', 'We', 'must', 'forever', 'conduct', 'our', 'struggle', 'on', 'the', 'high', 'plane', 'of', 'dignity', 'and', 'discipline.', 'We', 'must', 'not', 'allow', 'our', 'creative', 'protest', 'to', 'degenerate', 'into', 'physical', 'violence.', 'Again', 'and', 'again,', 'we', 'must', 'rise', 'to', 'the', 'majestic', 'heights', 'of', 'meeting', 'physical', 'force', 'with', 'soul', 'force.', 'The', 'marvelous', 'new', 'militancy', 'which', 'has', 'engulfed', 'the', 'Negro', 'community', 'must', 'not', 'lead', 'us', 'to', 'a', 'distrust', 'of', 'all', 'white', 'people,', 'for', 'many', 'of', 'our', 'white', 'brothers,', 'as', 'evidenced', 'by', 'their', 'presence', 'here', 'today,', 'have', 'come', 'to', 'realize', 'that', 'their', 'destiny', 'is', 'tied', 'up', 'with', 'our', 'destiny.', 'And', 'they', 'have', 'come', 'to', 'realize', 'that', 'their', 'freedom', 'is', 'inextricably', 'bound', 'to', 'our', 'freedom.', 'We', 'cannot', 'walk', 'alone.', 'And', 'as', 'we', 'walk,', 'we', 'must', 'make', 'the', 'pledge', 'that', 'we', 'shall', 'always', 'march', 'ahead.', 'We', 'cannot', 'turn', 'back.', 'There', 'are', 'those', 'who', 'are', 'asking', 'the', 'devotees', 'of', 'civil', 'rights,', '\"When', 'will', 'you', 'be', 'satisfied?\"', 'We', 'can', 'never', 'be', 'satisfied', 'as', 'long', 'as', 'the', 'Negro', 'is', 'the', 'victim', 'of', 'the', 'unspeakable', 'horrors', 'of', 'police', 'brutality.', 'We', 'can', 'never', 'be', 'satisfied', 'as', 'long', 'as', 'our', 'bodies,', 'heavy', 'with', 'the', 'fatigue', 'of', 'travel,', 'cannot', 'gain', 'lodging', 'in', 'the', 'motels', 'of', 'the', 'highways', 'and', 'the', 'hotels', 'of', 'the', 'cities.', '*We', 'cannot', 'be', 'satisfied', 'as', 'long', 'as', 'the', \"negro's\", 'basic', 'mobility', 'is', 'from', 'a', 'smaller', 'ghetto', 'to', 'a', 'larger', 'one.', 'We', 'can', 'never', 'be', 'satisfied', 'as', 'long', 'as', 'our', 'children', 'are', 'stripped', 'of', 'their', 'self-hood', 'and', 'robbed', 'of', 'their', 'dignity', 'by', 'signs', 'stating:', '\"For', 'Whites', 'Only.\"*', 'We', 'cannot', 'be', 'satisfied', 'as', 'long', 'as', 'a', 'Negro', 'in', 'Mississippi', 'cannot', 'vote', 'and', 'a', 'Negro', 'in', 'New', 'York', 'believes', 'he', 'has', 'nothing', 'for', 'which', 'to', 'vote.', 'No,', 'no,', 'we', 'are', 'not', 'satisfied,', 'and', 'we', 'will', 'not', 'be', 'satisfied', 'until', '\"justice', 'rolls', 'down', 'like', 'waters,', 'and', 'righteousness', 'like', 'a', 'mighty', 'stream.\"1', '', '', 'I', 'am', 'not', 'unmindful', 'that', 'some', 'of', 'you', 'have', 'come', 'here', 'out', 'of', 'great', 'trials', 'and', 'tribulations.', 'Some', 'of', 'you', 'have', 'come', 'fresh', 'from', 'narrow', 'jail', 'cells.', 'And', 'some', 'of', 'you', 'have', 'come', 'from', 'areas', 'where', 'your', 'quest', '--', 'quest', 'for', 'freedom', 'left', 'you', 'battered', 'by', 'the', 'storms', 'of', 'persecution', 'and', 'staggered', 'by', 'the', 'winds', 'of', 'police', 'brutality.', 'You', 'have', 'been', 'the', 'veterans', 'of', 'creative', 'suffering.', 'Continue', 'to', 'work', 'with', 'the', 'faith', 'that', 'unearned', 'suffering', 'is', 'redemptive.', 'Go', 'back', 'to', 'Mississippi,', 'go', 'back', 'to', 'Alabama,', 'go', 'back', 'to', 'South', 'Carolina,', 'go', 'back', 'to', 'Georgia,', 'go', 'back', 'to', 'Louisiana,', 'go', 'back', 'to', 'the', 'slums', 'and', 'ghettos', 'of', 'our', 'northern', 'cities,', 'knowing', 'that', 'somehow', 'this', 'situation', 'can', 'and', 'will', 'be', 'changed.', 'Let', 'us', 'not', 'wallow', 'in', 'the', 'valley', 'of', 'despair,', 'I', 'say', 'to', 'you', 'today,', 'my', 'friends.', 'And', 'so', 'even', 'though', 'we', 'face', 'the', 'difficulties', 'of', 'today', 'and', 'tomorrow,', 'I', 'still', 'have', 'a', 'dream.', 'It', 'is', 'a', 'dream', 'deeply', 'rooted', 'in', 'the', 'American', 'dream.', 'I', 'have', 'a', 'dream', 'that', 'one', 'day', 'this', 'nation', 'will', 'rise', 'up', 'and', 'live', 'out', 'the', 'true', 'meaning', 'of', 'its', 'creed:', '\"We', 'hold', 'these', 'truths', 'to', 'be', 'self-evident,', 'that', 'all', 'men', 'are', 'created', 'equal.\"', 'I', 'have', 'a', 'dream', 'that', 'one', 'day', 'on', 'the', 'red', 'hills', 'of', 'Georgia,', 'the', 'sons', 'of', 'former', 'slaves', 'and', 'the', 'sons', 'of', 'former', 'slave', 'owners', 'will', 'be', 'able', 'to', 'sit', 'down', 'together', 'at', 'the', 'table', 'of', 'brotherhood.', 'I', 'have', 'a', 'dream', 'that', 'one', 'day', 'even', 'the', 'state', 'of', 'Mississippi,', 'a', 'state', 'sweltering', 'with', 'the', 'heat', 'of', 'injustice,', 'sweltering', 'with', 'the', 'heat', 'of', 'oppression,', 'will', 'be', 'transformed', 'into', 'an', 'oasis', 'of', 'freedom', 'and', 'justice.', 'I', 'have', 'a', 'dream', 'that', 'my', 'four', 'little', 'children', 'will', 'one', 'day', 'live', 'in', 'a', 'nation', 'where', 'they', 'will', 'not', 'be', 'judged', 'by', 'the', 'color', 'of', 'their', 'skin', 'but', 'by', 'the', 'content', 'of', 'their', 'character.', 'I', 'have', 'a', 'dream', 'today!', 'I', 'have', 'a', 'dream', 'that', 'one', 'day,', 'down', 'in', 'Alabama,', 'with', 'its', 'vicious', 'racists,', 'with', 'its', 'governor', 'having', 'his', 'lips', 'dripping', 'with', 'the', 'words', 'of', '\"interposition\"', 'and', '\"nullification\"', '--', 'one', 'day', 'right', 'there', 'in', 'Alabama', 'little', 'black', 'boys', 'and', 'black', 'girls', 'will', 'be', 'able', 'to', 'join', 'hands', 'with', 'little', 'white', 'boys', 'and', 'white', 'girls', 'as', 'sisters', 'and', 'brothers.', 'I', 'have', 'a', 'dream', 'today!', 'I', 'have', 'a', 'dream', 'that', 'one', 'day', 'every', 'valley', 'shall', 'be', 'exalted,', 'and', 'every', 'hill', 'and', 'mountain', 'shall', 'be', 'made', 'low,', 'the', 'rough', 'places', 'will', 'be', 'made', 'plain,', 'and', 'the', 'crooked', 'places', 'will', 'be', 'made', 'straight;', '\"and', 'the', 'glory', 'of', 'the', 'Lord', 'shall', 'be', 'revealed', 'and', 'all', 'flesh', 'shall', 'see', 'it', 'together.\"2', 'This', 'is', 'our', 'hope,', 'and', 'this', 'is', 'the', 'faith', 'that', 'I', 'go', 'back', 'to', 'the', 'South', 'with.', 'With', 'this', 'faith,', 'we', 'will', 'be', 'able', 'to', 'hew', 'out', 'of', 'the', 'mountain', 'of', 'despair', 'a', 'stone', 'of', 'hope.', 'With', 'this', 'faith,', 'we', 'will', 'be', 'able', 'to', 'transform', 'the', 'jangling', 'discords', 'of', 'our', 'nation', 'into', 'a', 'beautiful', 'symphony', 'of', 'brotherhood.', 'With', 'this', 'faith,', 'we', 'will', 'be', 'able', 'to', 'work', 'together,', 'to', 'pray', 'together,', 'to', 'struggle', 'together,', 'to', 'go', 'to', 'jail', 'together,', 'to', 'stand', 'up', 'for', 'freedom', 'together,', 'knowing', 'that', 'we', 'will', 'be', 'free', 'one', 'day.', 'And', 'this', 'will', 'be', 'the', 'day', '--', 'this', 'will', 'be', 'the', 'day', 'when', 'all', 'of', \"God's\", 'children', 'will', 'be', 'able', 'to', 'sing', 'with', 'new', 'meaning:', 'My', 'country', \"'tis\", 'of', 'thee,', 'sweet', 'land', 'of', 'liberty,', 'of', 'thee', 'I', 'sing.', 'Land', 'where', 'my', 'fathers', 'died,', 'land', 'of', 'the', \"Pilgrim's\", 'pride,', '', '', '', 'From', 'every', 'mountainside,', 'let', 'freedom', 'ring!', 'And', 'if', 'America', 'is', 'to', 'be', 'a', 'great', 'nation,', 'this', 'must', 'become', 'true.', 'And', 'so', 'let', 'freedom', 'ring', 'from', 'the', 'prodigious', 'hilltops', 'of', 'New', 'Hampshire.', 'Let', 'freedom', 'ring', 'from', 'the', 'mighty', 'mountains', 'of', 'New', 'York.', 'Let', 'freedom', 'ring', 'from', 'the', 'heightening', 'Alleghenies', 'of', 'Pennsylvania.', 'Let', 'freedom', 'ring', 'from', 'the', 'snow-capped', 'Rockies', 'of', 'Colorado.', 'Let', 'freedom', 'ring', 'from', 'the', 'curvaceous', 'slopes', 'of', 'California.', 'But', 'not', 'only', 'that:', 'Let', 'freedom', 'ring', 'from', 'Stone', 'Mountain', 'of', 'Georgia.', 'Let', 'freedom', 'ring', 'from', 'Lookout', 'Mountain', 'of', 'Tennessee.', 'Let', 'freedom', 'ring', 'from', 'every', 'hill', 'and', 'molehill', 'of', 'Mississippi.', 'From', 'every', 'mountainside,', 'let', 'freedom', 'ring.', 'And', 'when', 'this', 'happens,', 'and', 'when', 'we', 'allow', 'freedom', 'ring,', 'when', 'we', 'let', 'it', 'ring', 'from', 'every', 'village', 'and', 'every', 'hamlet,', 'from', 'every', 'state', 'and', 'every', 'city,', 'we', 'will', 'be', 'able', 'to', 'speed', 'up', 'that', 'day', 'when', 'all', 'of', \"God's\", 'children,', 'black', 'men', 'and', 'white', 'men,', 'Jews', 'and', 'Gentiles,', 'Protestants', 'and', 'Catholics,', 'will', 'be', 'able', 'to', 'join', 'hands', 'and', 'sing', 'in', 'the', 'words', 'of', 'the', 'old', 'Negro', 'spiritual:', 'Free', 'at', 'last!', 'Free', 'at', 'last!', 'Thank', 'God', 'Almighty,', 'we', 'are', 'free', 'at', 'last!\\n']\n"
     ]
    }
   ],
   "source": [
    "with open('ihaveadream.txt', 'r') as f:\n",
    "    text = f.read()\n",
    "    text = text.replace(\"\\n\\n\", \" \").split(' ')\n",
    "\n",
    "    print(text)"
   ]
  },
  {
   "cell_type": "code",
   "execution_count": 90,
   "metadata": {
    "scrolled": true
   },
   "outputs": [
    {
     "name": "stdout",
     "output_type": "stream",
     "text": [
      "['I', 'am', 'happy', 'to', 'join', 'with', 'you', 'today', 'in', 'what', 'will', 'go', 'down', 'in', 'history', 'as', 'the', 'greatest', 'demonstration', 'for', 'freedom', 'in', 'the', 'history', 'of', 'our', 'nation.', 'Five', 'score', 'years', 'ago,', 'a', 'great', 'American,', 'in', 'whose', 'symbolic', 'shadow', 'we', 'stand', 'today,', 'signed', 'the', 'Emancipation', 'Proclamation.', 'This', 'momentous', 'decree', 'came', 'as', 'a', 'great', 'beacon', 'light', 'of', 'hope', 'to', 'millions', 'of', 'Negro', 'slaves', 'who', 'had', 'been', 'seared', 'in', 'the', 'flames', 'of', 'withering', 'injustice.', 'It', 'came', 'as', 'a', 'joyous', 'daybreak', 'to', 'end', 'the', 'long', 'night', 'of', 'their', 'captivity.', 'But', 'one', 'hundred', 'years', 'later,', 'the', 'Negro', 'still', 'is', 'not', 'free.', 'One', 'hundred', 'years', 'later,', 'the', 'life', 'of', 'the', 'Negro', 'is', 'still', 'sadly', 'crippled', 'by', 'the', 'manacles', 'of', 'segregation', 'and', 'the', 'chains', 'of', 'discrimination.', 'One', 'hundred', 'years', 'later,', 'the', 'Negro', 'lives', 'on', 'a', 'lonely', 'island', 'of', 'poverty', 'in', 'the', 'midst', 'of', 'a', 'vast', 'ocean', 'of', 'material', 'prosperity.', 'One', 'hundred', 'years', 'later,', 'the', 'Negro', 'is', 'still', 'languished', 'in', 'the', 'corners', 'of', 'American', 'society', 'and', 'finds', 'himself', 'an', 'exile', 'in', 'his', 'own', 'land.', 'And', 'so', \"we've\", 'come', 'here', 'today', 'to', 'dramatize', 'a', 'shameful', 'condition.', 'In', 'a', 'sense', \"we've\", 'come', 'to', 'our', \"nation's\", 'capital', 'to', 'cash', 'a', 'check.', 'When', 'the', 'architects', 'of', 'our', 'republic', 'wrote', 'the', 'magnificent', 'words', 'of', 'the', 'Constitution', 'and', 'the', 'Declaration', 'of', 'Independence,', 'they', 'were', 'signing', 'a', 'promissory', 'note', 'to', 'which', 'every', 'American', 'was', 'to', 'fall', 'heir.', 'This', 'note', 'was', 'a', 'promise', 'that', 'all', 'men,', 'yes,', 'black', 'men', 'as', 'well', 'as', 'white', 'men,', 'would', 'be', 'guaranteed', 'the', '\"unalienable', 'Rights\"', 'of', '\"Life,', 'Liberty', 'and', 'the', 'pursuit', 'of', 'Happiness.\"', 'It', 'is', 'obvious', 'today', 'that', 'America', 'has', 'defaulted', 'on', 'this', 'promissory', 'note,', 'insofar', 'as', 'her', 'citizens', 'of', 'color', 'are', 'concerned.', 'Instead', 'of', 'honoring', 'this', 'sacred', 'obligation,', 'America', 'has', 'given', 'the', 'Negro', 'people', 'a', 'bad', 'check,', 'a', 'check', 'which', 'has', 'come', 'back', 'marked', '\"insufficient', 'funds.\"', 'But', 'we', 'refuse', 'to', 'believe', 'that', 'the', 'bank', 'of', 'justice', 'is', 'bankrupt.', 'We', 'refuse', 'to', 'believe', 'that', 'there', 'are', 'insufficient', 'funds', 'in', 'the', 'great', 'vaults', 'of', 'opportunity', 'of', 'this', 'nation.', 'And', 'so,', \"we've\", 'come', 'to', 'cash', 'this', 'check,', 'a', 'check', 'that', 'will', 'give', 'us', 'upon', 'demand', 'the', 'riches', 'of', 'freedom', 'and', 'the', 'security', 'of', 'justice.', 'We', 'have', 'also', 'come', 'to', 'this', 'hallowed', 'spot', 'to', 'remind', 'America', 'of', 'the', 'fierce', 'urgency', 'of', 'Now.', 'This', 'is', 'no', 'time', 'to', 'engage', 'in', 'the', 'luxury', 'of', 'cooling', 'off', 'or', 'to', 'take', 'the', 'tranquilizing', 'drug', 'of', 'gradualism.', 'Now', 'is', 'the', 'time', 'to', 'make', 'real', 'the', 'promises', 'of', 'democracy.', 'Now', 'is', 'the', 'time', 'to', 'rise', 'from', 'the', 'dark', 'and', 'desolate', 'valley', 'of', 'segregation', 'to', 'the', 'sunlit', 'path', 'of', 'racial', 'justice.', 'Now', 'is', 'the', 'time', 'to', 'lift', 'our', 'nation', 'from', 'the', 'quicksands', 'of', 'racial', 'injustice', 'to', 'the', 'solid', 'rock', 'of', 'brotherhood.', 'Now', 'is', 'the', 'time', 'to', 'make', 'justice', 'a', 'reality', 'for', 'all', 'of', \"God's\", 'children.', 'It', 'would', 'be', 'fatal', 'for', 'the', 'nation', 'to', 'overlook', 'the', 'urgency', 'of', 'the', 'moment.', 'This', 'sweltering', 'summer', 'of', 'the', \"Negro's\", 'legitimate', 'discontent', 'will', 'not', 'pass', 'until', 'there', 'is', 'an', 'invigorating', 'autumn', 'of', 'freedom', 'and', 'equality.', 'Nineteen', 'sixty-three', 'is', 'not', 'an', 'end,', 'but', 'a', 'beginning.', 'And', 'those', 'who', 'hope', 'that', 'the', 'Negro', 'needed', 'to', 'blow', 'off', 'steam', 'and', 'will', 'now', 'be', 'content', 'will', 'have', 'a', 'rude', 'awakening', 'if', 'the', 'nation', 'returns', 'to', 'business', 'as', 'usual.', 'And', 'there', 'will', 'be', 'neither', 'rest', 'nor', 'tranquility', 'in', 'America', 'until', 'the', 'Negro', 'is', 'granted', 'his', 'citizenship', 'rights.', 'The', 'whirlwinds', 'of', 'revolt', 'will', 'continue', 'to', 'shake', 'the', 'foundations', 'of', 'our', 'nation', 'until', 'the', 'bright', 'day', 'of', 'justice', 'emerges.', 'But', 'there', 'is', 'something', 'that', 'I', 'must', 'say', 'to', 'my', 'people,', 'who', 'stand', 'on', 'the', 'warm', 'threshold', 'which', 'leads', 'into', 'the', 'palace', 'of', 'justice:', 'In', 'the', 'process', 'of', 'gaining', 'our', 'rightful', 'place,', 'we', 'must', 'not', 'be', 'guilty', 'of', 'wrongful', 'deeds.', 'Let', 'us', 'not', 'seek', 'to', 'satisfy', 'our', 'thirst', 'for', 'freedom', 'by', 'drinking', 'from', 'the', 'cup', 'of', 'bitterness', 'and', 'hatred.', 'We', 'must', 'forever', 'conduct', 'our', 'struggle', 'on', 'the', 'high', 'plane', 'of', 'dignity', 'and', 'discipline.', 'We', 'must', 'not', 'allow', 'our', 'creative', 'protest', 'to', 'degenerate', 'into', 'physical', 'violence.', 'Again', 'and', 'again,', 'we', 'must', 'rise', 'to', 'the', 'majestic', 'heights', 'of', 'meeting', 'physical', 'force', 'with', 'soul', 'force.', 'The', 'marvelous', 'new', 'militancy', 'which', 'has', 'engulfed', 'the', 'Negro', 'community', 'must', 'not', 'lead', 'us', 'to', 'a', 'distrust', 'of', 'all', 'white', 'people,', 'for', 'many', 'of', 'our', 'white', 'brothers,', 'as', 'evidenced', 'by', 'their', 'presence', 'here', 'today,', 'have', 'come', 'to', 'realize', 'that', 'their', 'destiny', 'is', 'tied', 'up', 'with', 'our', 'destiny.', 'And', 'they', 'have', 'come', 'to', 'realize', 'that', 'their', 'freedom', 'is', 'inextricably', 'bound', 'to', 'our', 'freedom.', 'We', 'cannot', 'walk', 'alone.', 'And', 'as', 'we', 'walk,', 'we', 'must', 'make', 'the', 'pledge', 'that', 'we', 'shall', 'always', 'march', 'ahead.', 'We', 'cannot', 'turn', 'back.', 'There', 'are', 'those', 'who', 'are', 'asking', 'the', 'devotees', 'of', 'civil', 'rights,', '\"When', 'will', 'you', 'be', 'satisfied?\"', 'We', 'can', 'never', 'be', 'satisfied', 'as', 'long', 'as', 'the', 'Negro', 'is', 'the', 'victim', 'of', 'the', 'unspeakable', 'horrors', 'of', 'police', 'brutality.', 'We', 'can', 'never', 'be', 'satisfied', 'as', 'long', 'as', 'our', 'bodies,', 'heavy', 'with', 'the', 'fatigue', 'of', 'travel,', 'cannot', 'gain', 'lodging', 'in', 'the', 'motels', 'of', 'the', 'highways', 'and', 'the', 'hotels', 'of', 'the', 'cities.', '*We', 'cannot', 'be', 'satisfied', 'as', 'long', 'as', 'the', \"negro's\", 'basic', 'mobility', 'is', 'from', 'a', 'smaller', 'ghetto', 'to', 'a', 'larger', 'one.', 'We', 'can', 'never', 'be', 'satisfied', 'as', 'long', 'as', 'our', 'children', 'are', 'stripped', 'of', 'their', 'self-hood', 'and', 'robbed', 'of', 'their', 'dignity', 'by', 'signs', 'stating:', '\"For', 'Whites', 'Only.\"*', 'We', 'cannot', 'be', 'satisfied', 'as', 'long', 'as', 'a', 'Negro', 'in', 'Mississippi', 'cannot', 'vote', 'and', 'a', 'Negro', 'in', 'New', 'York', 'believes', 'he', 'has', 'nothing', 'for', 'which', 'to', 'vote.', 'No,', 'no,', 'we', 'are', 'not', 'satisfied,', 'and', 'we', 'will', 'not', 'be', 'satisfied', 'until', '\"justice', 'rolls', 'down', 'like', 'waters,', 'and', 'righteousness', 'like', 'a', 'mighty', 'stream.\"1', '', '', 'I', 'am', 'not', 'unmindful', 'that', 'some', 'of', 'you', 'have', 'come', 'here', 'out', 'of', 'great', 'trials', 'and', 'tribulations.', 'Some', 'of', 'you', 'have', 'come', 'fresh', 'from', 'narrow', 'jail', 'cells.', 'And', 'some', 'of', 'you', 'have', 'come', 'from', 'areas', 'where', 'your', 'quest', '--', 'quest', 'for', 'freedom', 'left', 'you', 'battered', 'by', 'the', 'storms', 'of', 'persecution', 'and', 'staggered', 'by', 'the', 'winds', 'of', 'police', 'brutality.', 'You', 'have', 'been', 'the', 'veterans', 'of', 'creative', 'suffering.', 'Continue', 'to', 'work', 'with', 'the', 'faith', 'that', 'unearned', 'suffering', 'is', 'redemptive.', 'Go', 'back', 'to', 'Mississippi,', 'go', 'back', 'to', 'Alabama,', 'go', 'back', 'to', 'South', 'Carolina,', 'go', 'back', 'to', 'Georgia,', 'go', 'back', 'to', 'Louisiana,', 'go', 'back', 'to', 'the', 'slums', 'and', 'ghettos', 'of', 'our', 'northern', 'cities,', 'knowing', 'that', 'somehow', 'this', 'situation', 'can', 'and', 'will', 'be', 'changed.', 'Let', 'us', 'not', 'wallow', 'in', 'the', 'valley', 'of', 'despair,', 'I', 'say', 'to', 'you', 'today,', 'my', 'friends.', 'And', 'so', 'even', 'though', 'we', 'face', 'the', 'difficulties', 'of', 'today', 'and', 'tomorrow,', 'I', 'still', 'have', 'a', 'dream.', 'It', 'is', 'a', 'dream', 'deeply', 'rooted', 'in', 'the', 'American', 'dream.', 'I', 'have', 'a', 'dream', 'that', 'one', 'day', 'this', 'nation', 'will', 'rise', 'up', 'and', 'live', 'out', 'the', 'true', 'meaning', 'of', 'its', 'creed:', '\"We', 'hold', 'these', 'truths', 'to', 'be', 'self-evident,', 'that', 'all', 'men', 'are', 'created', 'equal.\"', 'I', 'have', 'a', 'dream', 'that', 'one', 'day', 'on', 'the', 'red', 'hills', 'of', 'Georgia,', 'the', 'sons', 'of', 'former', 'slaves', 'and', 'the', 'sons', 'of', 'former', 'slave', 'owners', 'will', 'be', 'able', 'to', 'sit', 'down', 'together', 'at', 'the', 'table', 'of', 'brotherhood.', 'I', 'have', 'a', 'dream', 'that', 'one', 'day', 'even', 'the', 'state', 'of', 'Mississippi,', 'a', 'state', 'sweltering', 'with', 'the', 'heat', 'of', 'injustice,', 'sweltering', 'with', 'the', 'heat', 'of', 'oppression,', 'will', 'be', 'transformed', 'into', 'an', 'oasis', 'of', 'freedom', 'and', 'justice.', 'I', 'have', 'a', 'dream', 'that', 'my', 'four', 'little', 'children', 'will', 'one', 'day', 'live', 'in', 'a', 'nation', 'where', 'they', 'will', 'not', 'be', 'judged', 'by', 'the', 'color', 'of', 'their', 'skin', 'but', 'by', 'the', 'content', 'of', 'their', 'character.', 'I', 'have', 'a', 'dream', 'today!', 'I', 'have', 'a', 'dream', 'that', 'one', 'day,', 'down', 'in', 'Alabama,', 'with', 'its', 'vicious', 'racists,', 'with', 'its', 'governor', 'having', 'his', 'lips', 'dripping', 'with', 'the', 'words', 'of', '\"interposition\"', 'and', '\"nullification\"', '--', 'one', 'day', 'right', 'there', 'in', 'Alabama', 'little', 'black', 'boys', 'and', 'black', 'girls', 'will', 'be', 'able', 'to', 'join', 'hands', 'with', 'little', 'white', 'boys', 'and', 'white', 'girls', 'as', 'sisters', 'and', 'brothers.', 'I', 'have', 'a', 'dream', 'today!', 'I', 'have', 'a', 'dream', 'that', 'one', 'day', 'every', 'valley', 'shall', 'be', 'exalted,', 'and', 'every', 'hill', 'and', 'mountain', 'shall', 'be', 'made', 'low,', 'the', 'rough', 'places', 'will', 'be', 'made', 'plain,', 'and', 'the', 'crooked', 'places', 'will', 'be', 'made', 'straight;', '\"and', 'the', 'glory', 'of', 'the', 'Lord', 'shall', 'be', 'revealed', 'and', 'all', 'flesh', 'shall', 'see', 'it', 'together.\"2', 'This', 'is', 'our', 'hope,', 'and', 'this', 'is', 'the', 'faith', 'that', 'I', 'go', 'back', 'to', 'the', 'South', 'with.', 'With', 'this', 'faith,', 'we', 'will', 'be', 'able', 'to', 'hew', 'out', 'of', 'the', 'mountain', 'of', 'despair', 'a', 'stone', 'of', 'hope.', 'With', 'this', 'faith,', 'we', 'will', 'be', 'able', 'to', 'transform', 'the', 'jangling', 'discords', 'of', 'our', 'nation', 'into', 'a', 'beautiful', 'symphony', 'of', 'brotherhood.', 'With', 'this', 'faith,', 'we', 'will', 'be', 'able', 'to', 'work', 'together,', 'to', 'pray', 'together,', 'to', 'struggle', 'together,', 'to', 'go', 'to', 'jail', 'together,', 'to', 'stand', 'up', 'for', 'freedom', 'together,', 'knowing', 'that', 'we', 'will', 'be', 'free', 'one', 'day.', 'And', 'this', 'will', 'be', 'the', 'day', '--', 'this', 'will', 'be', 'the', 'day', 'when', 'all', 'of', \"God's\", 'children', 'will', 'be', 'able', 'to', 'sing', 'with', 'new', 'meaning:', 'My', 'country', \"'tis\", 'of', 'thee,', 'sweet', 'land', 'of', 'liberty,', 'of', 'thee', 'I', 'sing.', 'Land', 'where', 'my', 'fathers', 'died,', 'land', 'of', 'the', \"Pilgrim's\", 'pride,', '', '', '', 'From', 'every', 'mountainside,', 'let', 'freedom', 'ring!', 'And', 'if', 'America', 'is', 'to', 'be', 'a', 'great', 'nation,', 'this', 'must', 'become', 'true.', 'And', 'so', 'let', 'freedom', 'ring', 'from', 'the', 'prodigious', 'hilltops', 'of', 'New', 'Hampshire.', 'Let', 'freedom', 'ring', 'from', 'the', 'mighty', 'mountains', 'of', 'New', 'York.', 'Let', 'freedom', 'ring', 'from', 'the', 'heightening', 'Alleghenies', 'of', 'Pennsylvania.', 'Let', 'freedom', 'ring', 'from', 'the', 'snow-capped', 'Rockies', 'of', 'Colorado.', 'Let', 'freedom', 'ring', 'from', 'the', 'curvaceous', 'slopes', 'of', 'California.', 'But', 'not', 'only', 'that:', 'Let', 'freedom', 'ring', 'from', 'Stone', 'Mountain', 'of', 'Georgia.', 'Let', 'freedom', 'ring', 'from', 'Lookout', 'Mountain', 'of', 'Tennessee.', 'Let', 'freedom', 'ring', 'from', 'every', 'hill', 'and', 'molehill', 'of', 'Mississippi.', 'From', 'every', 'mountainside,', 'let', 'freedom', 'ring.', 'And', 'when', 'this', 'happens,', 'and', 'when', 'we', 'allow', 'freedom', 'ring,', 'when', 'we', 'let', 'it', 'ring', 'from', 'every', 'village', 'and', 'every', 'hamlet,', 'from', 'every', 'state', 'and', 'every', 'city,', 'we', 'will', 'be', 'able', 'to', 'speed', 'up', 'that', 'day', 'when', 'all', 'of', \"God's\", 'children,', 'black', 'men', 'and', 'white', 'men,', 'Jews', 'and', 'Gentiles,', 'Protestants', 'and', 'Catholics,', 'will', 'be', 'able', 'to', 'join', 'hands', 'and', 'sing', 'in', 'the', 'words', 'of', 'the', 'old', 'Negro', 'spiritual:', 'Free', 'at', 'last!', 'Free', 'at', 'last!', 'Thank', 'God', 'Almighty,', 'we', 'are', 'free', 'at', 'last!\\n']\n"
     ]
    }
   ],
   "source": [
    "with open('ihaveadream.txt', 'r') as f:\n",
    "    text = f.read()\n",
    "    text = text.replace(\"\\n\\n\", \" \").split(' ')\n",
    "\n",
    "    print(text)"
   ]
  },
  {
   "cell_type": "code",
   "execution_count": 91,
   "metadata": {},
   "outputs": [],
   "source": [
    "class 클래스이름:\n",
    "    def 메서드(self):\n",
    "        코드"
   ]
  },
  {
   "cell_type": "code",
   "execution_count": 92,
   "metadata": {},
   "outputs": [],
   "source": [
    "class Person:\n",
    "    def greeting(self):\n",
    "        print('Hello')"
   ]
  },
  {
   "cell_type": "code",
   "execution_count": 93,
   "metadata": {},
   "outputs": [],
   "source": [
    "james = Person()"
   ]
  },
  {
   "cell_type": "code",
   "execution_count": 94,
   "metadata": {},
   "outputs": [
    {
     "name": "stdout",
     "output_type": "stream",
     "text": [
      "Hello\n"
     ]
    }
   ],
   "source": [
    "james.greeting()"
   ]
  },
  {
   "cell_type": "code",
   "execution_count": 95,
   "metadata": {},
   "outputs": [],
   "source": [
    "b= list(range(10))"
   ]
  },
  {
   "cell_type": "code",
   "execution_count": 96,
   "metadata": {},
   "outputs": [],
   "source": [
    "b.append(20)"
   ]
  },
  {
   "cell_type": "code",
   "execution_count": 98,
   "metadata": {},
   "outputs": [
    {
     "data": {
      "text/plain": [
       "int"
      ]
     },
     "execution_count": 98,
     "metadata": {},
     "output_type": "execute_result"
    }
   ],
   "source": [
    "a = 10\n",
    "type(a)"
   ]
  },
  {
   "cell_type": "code",
   "execution_count": 99,
   "metadata": {},
   "outputs": [
    {
     "data": {
      "text/plain": [
       "list"
      ]
     },
     "execution_count": 99,
     "metadata": {},
     "output_type": "execute_result"
    }
   ],
   "source": [
    "b = [0,1,2]\n",
    "type(b)"
   ]
  },
  {
   "cell_type": "code",
   "execution_count": 103,
   "metadata": {},
   "outputs": [
    {
     "ename": "AttributeError",
     "evalue": "'Person' object has no attribute 'Person'",
     "output_type": "error",
     "traceback": [
      "\u001b[1;31m---------------------------------------------------------------------------\u001b[0m",
      "\u001b[1;31mAttributeError\u001b[0m                            Traceback (most recent call last)",
      "\u001b[1;32m<ipython-input-103-37bac7b3b4ac>\u001b[0m in \u001b[0;36m<module>\u001b[1;34m\u001b[0m\n\u001b[0;32m      5\u001b[0m     \u001b[1;32mdef\u001b[0m \u001b[0mgreeting\u001b[0m\u001b[1;33m(\u001b[0m\u001b[0mself\u001b[0m\u001b[1;33m)\u001b[0m\u001b[1;33m:\u001b[0m\u001b[1;33m\u001b[0m\u001b[1;33m\u001b[0m\u001b[0m\n\u001b[0;32m      6\u001b[0m         \u001b[0mprint\u001b[0m\u001b[1;33m(\u001b[0m\u001b[0mself\u001b[0m\u001b[1;33m.\u001b[0m\u001b[0mhello\u001b[0m\u001b[1;33m)\u001b[0m\u001b[1;33m\u001b[0m\u001b[1;33m\u001b[0m\u001b[0m\n\u001b[1;32m----> 7\u001b[1;33m \u001b[0mjames\u001b[0m\u001b[1;33m.\u001b[0m\u001b[0mPerson\u001b[0m\u001b[1;33m(\u001b[0m\u001b[1;33m)\u001b[0m\u001b[1;33m\u001b[0m\u001b[1;33m\u001b[0m\u001b[0m\n\u001b[0m\u001b[0;32m      8\u001b[0m \u001b[0mjames\u001b[0m\u001b[1;33m.\u001b[0m\u001b[0mgreeting\u001b[0m\u001b[1;33m(\u001b[0m\u001b[1;33m)\u001b[0m\u001b[1;33m\u001b[0m\u001b[1;33m\u001b[0m\u001b[0m\n",
      "\u001b[1;31mAttributeError\u001b[0m: 'Person' object has no attribute 'Person'"
     ]
    }
   ],
   "source": [
    "class Person:\n",
    "    def __init__(self):\n",
    "        self.hello = '안녕하세요.'\n",
    "        \n",
    "    def greeting(self):\n",
    "        print(self.hello)\n",
    "james.Person()\n",
    "james.greeting()"
   ]
  },
  {
   "cell_type": "code",
   "execution_count": 107,
   "metadata": {},
   "outputs": [
    {
     "name": "stdout",
     "output_type": "stream",
     "text": [
      "안녕하세요. 저는 마리아입니다.\n",
      "이름: 마리아\n",
      "나이: 20\n",
      "주소: 서울시 서초구 반포동\n"
     ]
    }
   ],
   "source": [
    "class Person:\n",
    "    def __init__(self, name ,age, address):\n",
    "        self.hello = '안녕하세요.'\n",
    "        self.name = name\n",
    "        self.age = age\n",
    "        self.address =address\n",
    "        \n",
    "    def greetig(self):\n",
    "        print('{0} 저는 {1}입니다.'.format(self.hello, self.name))\n",
    "        \n",
    "maria = Person('마리아', 20, '서울시 서초구 반포동')\n",
    "maria.greetig()\n",
    "\n",
    "print('이름:', maria.name)\n",
    "print('나이:', maria.age)\n",
    "print('주소:', maria.address)"
   ]
  },
  {
   "cell_type": "code",
   "execution_count": null,
   "metadata": {},
   "outputs": [],
   "source": []
  }
 ],
 "metadata": {
  "kernelspec": {
   "display_name": "Python 3",
   "language": "python",
   "name": "python3"
  },
  "language_info": {
   "codemirror_mode": {
    "name": "ipython",
    "version": 3
   },
   "file_extension": ".py",
   "mimetype": "text/x-python",
   "name": "python",
   "nbconvert_exporter": "python",
   "pygments_lexer": "ipython3",
   "version": "3.7.6"
  }
 },
 "nbformat": 4,
 "nbformat_minor": 4
}
